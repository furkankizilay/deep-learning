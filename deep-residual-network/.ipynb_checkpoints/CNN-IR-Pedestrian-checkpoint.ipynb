{
 "cells": [
  {
   "cell_type": "code",
   "execution_count": 1,
   "metadata": {},
   "outputs": [],
   "source": [
    "import torch\n",
    "import torch.nn as nn\n",
    "import torch.nn.functional as F\n",
    "from PIL import Image\n",
    "import matplotlib.pyplot as plt\n",
    "import numpy as np\n",
    "import os\n",
    "import time"
   ]
  },
  {
   "cell_type": "code",
   "execution_count": 2,
   "metadata": {},
   "outputs": [
    {
     "name": "stdout",
     "output_type": "stream",
     "text": [
      "Device:  cpu\n"
     ]
    }
   ],
   "source": [
    "# device confic EKSTRA DEFAULT CPU but GPU\n",
    "device = torch.device(\"cuda:0\" if torch.cuda.is_available() else \"cpu\")\n",
    "print(\"Device: \",device)"
   ]
  },
  {
   "cell_type": "code",
   "execution_count": 3,
   "metadata": {},
   "outputs": [],
   "source": [
    "def read_images(path, num_img):\n",
    "    array = np.zeros([num_img, 64*32])\n",
    "    i = 0\n",
    "    for img in os.listdir(path):\n",
    "        img_path = path + \"\\\\\" + img\n",
    "        img = Image.open(img_path, mode = \"r\")\n",
    "        data = np.asarray(img, dtype = \"uint8\")\n",
    "        data = data.flatten()\n",
    "        array[i,:] = data\n",
    "        i += 1\n",
    "    return array"
   ]
  },
  {
   "cell_type": "code",
   "execution_count": 4,
   "metadata": {},
   "outputs": [],
   "source": [
    "# read train negative\n",
    "train_negative_path = r\"LSIFIR\\Classification\\Train\\neg\"\n",
    "num_train_negative_img = 43390\n",
    "train_negative_array = read_images(train_negative_path, num_train_negative_img) "
   ]
  },
  {
   "cell_type": "code",
   "execution_count": 5,
   "metadata": {},
   "outputs": [
    {
     "name": "stdout",
     "output_type": "stream",
     "text": [
      "x_train_negative_tensor: torch.Size([43390, 2048])\n"
     ]
    }
   ],
   "source": [
    "x_train_negative_tensor = torch.from_numpy(train_negative_array)\n",
    "print(\"x_train_negative_tensor:\", x_train_negative_tensor.size())"
   ]
  },
  {
   "cell_type": "code",
   "execution_count": 6,
   "metadata": {},
   "outputs": [
    {
     "name": "stdout",
     "output_type": "stream",
     "text": [
      "y_train_negatice_tensor: torch.Size([43390])\n"
     ]
    }
   ],
   "source": [
    "y_train_negative_tensor = torch.zeros(num_train_negative_img, dtype = torch.long)\n",
    "print(\"y_train_negatice_tensor:\", y_train_negative_tensor.size())"
   ]
  },
  {
   "cell_type": "code",
   "execution_count": 8,
   "metadata": {},
   "outputs": [
    {
     "name": "stdout",
     "output_type": "stream",
     "text": [
      "x_train_positive_tensor: torch.Size([10208, 2048])\n",
      "y_train_positive_tensor: torch.Size([10208])\n"
     ]
    }
   ],
   "source": [
    "# read train positive\n",
    "train_positive_path = r\"LSIFIR\\Classification\\Train\\pos\"\n",
    "num_train_positive_img = 10208\n",
    "train_positive_array = read_images(train_positive_path, num_train_positive_img) \n",
    "\n",
    "x_train_positive_tensor = torch.from_numpy(train_positive_array)\n",
    "print(\"x_train_positive_tensor:\", x_train_positive_tensor.size())\n",
    "\n",
    "y_train_positive_tensor = torch.ones(num_train_positive_img, dtype = torch.long)\n",
    "print(\"y_train_positive_tensor:\", y_train_positive_tensor.size())"
   ]
  },
  {
   "cell_type": "code",
   "execution_count": 9,
   "metadata": {},
   "outputs": [
    {
     "name": "stdout",
     "output_type": "stream",
     "text": [
      "x_train:  torch.Size([53598, 2048])\n",
      "y_train:  torch.Size([53598])\n"
     ]
    }
   ],
   "source": [
    "# concat train\n",
    "x_train = torch.cat((x_train_negative_tensor,x_train_positive_tensor),0) # satırları birleştirmek için 0\n",
    "y_train = torch.cat((y_train_negative_tensor,y_train_positive_tensor),0)\n",
    "print(\"x_train: \",x_train.size())\n",
    "print(\"y_train: \",y_train.size())"
   ]
  },
  {
   "cell_type": "code",
   "execution_count": 11,
   "metadata": {},
   "outputs": [
    {
     "name": "stdout",
     "output_type": "stream",
     "text": [
      "x_test_negative_tensor:  torch.Size([20855, 2048])\n",
      "y_test_negative_tensor:  torch.Size([20855])\n",
      "x_test_positive_tensor:  torch.Size([5944, 2048])\n",
      "y_test_positive_tensor:  torch.Size([5944])\n",
      "x_test:  torch.Size([26799, 2048])\n",
      "y_test:  torch.Size([26799])\n"
     ]
    }
   ],
   "source": [
    "# --------------------------------------------------------\n",
    "# read test negative  22050\n",
    "test_negative_path = r\"LSIFIR\\Classification\\Test\\neg\"\n",
    "num_test_negative_img = 22050\n",
    "test_negative_array = read_images(test_negative_path,num_test_negative_img)\n",
    "x_test_negative_tensor = torch.from_numpy(test_negative_array[:20855,:])\n",
    "print(\"x_test_negative_tensor: \",x_test_negative_tensor.size())\n",
    "y_test_negative_tensor = torch.zeros(20855,dtype = torch.long)\n",
    "print(\"y_test_negative_tensor: \",y_test_negative_tensor.size())\n",
    "\n",
    "# read test positive 5944\n",
    "test_positive_path = r\"LSIFIR\\Classification\\Test\\pos\"\n",
    "num_test_positive_img = 5944\n",
    "test_positive_array = read_images(test_positive_path,num_test_positive_img)\n",
    "x_test_positive_tensor = torch.from_numpy(test_positive_array)\n",
    "print(\"x_test_positive_tensor: \",x_test_positive_tensor.size())\n",
    "y_test_positive_tensor = torch.zeros(num_test_positive_img,dtype = torch.long)\n",
    "print(\"y_test_positive_tensor: \",y_test_positive_tensor.size())\n",
    "\n",
    "# concat test\n",
    "x_test = torch.cat((x_test_negative_tensor, x_test_positive_tensor), 0)\n",
    "y_test = torch.cat((y_test_negative_tensor, y_test_positive_tensor), 0)\n",
    "print(\"x_test: \",x_test.size())\n",
    "print(\"y_test: \",y_test.size())"
   ]
  },
  {
   "cell_type": "code",
   "execution_count": 13,
   "metadata": {},
   "outputs": [
    {
     "data": {
      "text/plain": [
       "<matplotlib.image.AxesImage at 0x208e1e1fee0>"
      ]
     },
     "execution_count": 13,
     "metadata": {},
     "output_type": "execute_result"
    },
    {
     "data": {
      "image/png": "[encoded data removed]",
      "text/plain": [
       "<Figure size 432x288 with 1 Axes>"
      ]
     },
     "metadata": {
      "needs_background": "light"
     },
     "output_type": "display_data"
    }
   ],
   "source": [
    "# visualize\n",
    "plt.imshow(x_train[45001,:].reshape(64,32), cmap = \"gray\")"
   ]
  },
  {
   "cell_type": "code",
   "execution_count": null,
   "metadata": {},
   "outputs": [],
   "source": []
  }
 ],
 "metadata": {
  "kernelspec": {
   "display_name": "Python 3",
   "language": "python",
   "name": "python3"
  },
  "language_info": {
   "codemirror_mode": {
    "name": "ipython",
    "version": 3
   },
   "file_extension": ".py",
   "mimetype": "text/x-python",
   "name": "python",
   "nbconvert_exporter": "python",
   "pygments_lexer": "ipython3",
   "version": "3.8.8"
  }
 },
 "nbformat": 4,
 "nbformat_minor": 4
}
