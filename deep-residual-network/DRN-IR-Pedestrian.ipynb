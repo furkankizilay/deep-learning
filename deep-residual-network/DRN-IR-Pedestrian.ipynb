{
 "cells": [
  {
   "cell_type": "code",
   "execution_count": 1,
   "metadata": {},
   "outputs": [],
   "source": [
    "import torch \n",
    "import torch.nn as nn\n",
    "from PIL import Image\n",
    "import matplotlib.pyplot as plt\n",
    "import numpy as np\n",
    "import os \n",
    "import torch.utils.data"
   ]
  },
  {
   "cell_type": "code",
   "execution_count": 2,
   "metadata": {},
   "outputs": [
    {
     "name": "stdout",
     "output_type": "stream",
     "text": [
      "Device:  cpu\n"
     ]
    }
   ],
   "source": [
    "#%% Device config\n",
    "device = torch.device('cuda:0' if torch.cuda.is_available() else 'cpu')\n",
    "print(\"Device: \",device)"
   ]
  },
  {
   "cell_type": "code",
   "execution_count": 3,
   "metadata": {},
   "outputs": [],
   "source": [
    "#%% Dataset\n",
    "def read_images(path, num_img):\n",
    "    array = np.zeros([num_img,64*32])\n",
    "    i = 0\n",
    "    for img in os.listdir(path):\n",
    "        img_path = path + \"\\\\\" + img\n",
    "        img = Image.open(img_path, mode = 'r')\n",
    "        data = np.asarray(img,dtype = \"uint8\")\n",
    "        data = data.flatten()\n",
    "        array[i,:] = data\n",
    "        i += 1      \n",
    "    return array"
   ]
  },
  {
   "cell_type": "code",
   "execution_count": 4,
   "metadata": {},
   "outputs": [
    {
     "name": "stdout",
     "output_type": "stream",
     "text": [
      "x_train_negative_tensor:  torch.Size([42000, 2048])\n",
      "y_train_negative_tensor:  torch.Size([42000])\n"
     ]
    }
   ],
   "source": [
    "# read train negative  43390\n",
    "train_negative_path = r\"LSIFIR\\Classification\\Train\\neg\"\n",
    "num_train_negative_img = 43390\n",
    "train_negative_array = read_images(train_negative_path,num_train_negative_img)\n",
    "x_train_negative_tensor = torch.from_numpy(train_negative_array[:42000,:])\n",
    "print(\"x_train_negative_tensor: \",x_train_negative_tensor.size())\n",
    "y_train_negative_tensor = torch.zeros(42000,dtype = torch.long)\n",
    "print(\"y_train_negative_tensor: \",y_train_negative_tensor.size())"
   ]
  },
  {
   "cell_type": "code",
   "execution_count": 5,
   "metadata": {},
   "outputs": [
    {
     "name": "stdout",
     "output_type": "stream",
     "text": [
      "x_train_positive_tensor:  torch.Size([10000, 2048])\n",
      "y_train_positive_tensor:  torch.Size([10000])\n"
     ]
    }
   ],
   "source": [
    "# read train positive 10208\n",
    "train_positive_path = r\"LSIFIR\\Classification\\Train\\pos\"\n",
    "num_train_positive_img = 10208\n",
    "train_positive_array = read_images(train_positive_path,num_train_positive_img)\n",
    "x_train_positive_tensor = torch.from_numpy(train_positive_array[:10000,:])\n",
    "print(\"x_train_positive_tensor: \",x_train_positive_tensor.size())\n",
    "y_train_positive_tensor = torch.ones(10000,dtype = torch.long)\n",
    "print(\"y_train_positive_tensor: \",y_train_positive_tensor.size())"
   ]
  },
  {
   "cell_type": "code",
   "execution_count": 6,
   "metadata": {},
   "outputs": [
    {
     "name": "stdout",
     "output_type": "stream",
     "text": [
      "x_train:  torch.Size([52000, 2048])\n",
      "y_train:  torch.Size([52000])\n"
     ]
    }
   ],
   "source": [
    "# concat train\n",
    "x_train = torch.cat((x_train_negative_tensor, x_train_positive_tensor), 0)\n",
    "y_train = torch.cat((y_train_negative_tensor, y_train_positive_tensor), 0)\n",
    "print(\"x_train: \",x_train.size())\n",
    "print(\"y_train: \",y_train.size())"
   ]
  },
  {
   "cell_type": "code",
   "execution_count": 7,
   "metadata": {},
   "outputs": [
    {
     "name": "stdout",
     "output_type": "stream",
     "text": [
      "x_test_negative_tensor:  torch.Size([18056, 2048])\n",
      "y_test_negative_tensor:  torch.Size([18056])\n"
     ]
    }
   ],
   "source": [
    "# read test negative  22050\n",
    "test_negative_path = r\"LSIFIR\\Classification\\Test\\neg\"\n",
    "num_test_negative_img = 22050\n",
    "test_negative_array = read_images(test_negative_path,num_test_negative_img)\n",
    "x_test_negative_tensor = torch.from_numpy(test_negative_array[:18056,:])\n",
    "print(\"x_test_negative_tensor: \",x_test_negative_tensor.size())\n",
    "y_test_negative_tensor = torch.zeros(18056,dtype = torch.long)\n",
    "print(\"y_test_negative_tensor: \",y_test_negative_tensor.size())"
   ]
  },
  {
   "cell_type": "code",
   "execution_count": 8,
   "metadata": {},
   "outputs": [
    {
     "name": "stdout",
     "output_type": "stream",
     "text": [
      "x_test_positive_tensor:  torch.Size([5944, 2048])\n",
      "y_test_positive_tensor:  torch.Size([5944])\n"
     ]
    }
   ],
   "source": [
    "# read test positive 5944\n",
    "test_positive_path = r\"LSIFIR\\Classification\\Test\\pos\"\n",
    "num_test_positive_img = 5944\n",
    "test_positive_array = read_images(test_positive_path,num_test_positive_img)\n",
    "x_test_positive_tensor = torch.from_numpy(test_positive_array)\n",
    "print(\"x_test_positive_tensor: \",x_test_positive_tensor.size())\n",
    "y_test_positive_tensor = torch.zeros(num_test_positive_img,dtype = torch.long)\n",
    "print(\"y_test_positive_tensor: \",y_test_positive_tensor.size())"
   ]
  },
  {
   "cell_type": "code",
   "execution_count": 9,
   "metadata": {},
   "outputs": [
    {
     "name": "stdout",
     "output_type": "stream",
     "text": [
      "x_test:  torch.Size([24000, 2048])\n",
      "y_test:  torch.Size([24000])\n"
     ]
    }
   ],
   "source": [
    "# concat test\n",
    "x_test = torch.cat((x_test_negative_tensor, x_test_positive_tensor), 0)\n",
    "y_test = torch.cat((y_test_negative_tensor, y_test_positive_tensor), 0)\n",
    "print(\"x_test: \",x_test.size())\n",
    "print(\"y_test: \",y_test.size())"
   ]
  },
  {
   "cell_type": "code",
   "execution_count": 10,
   "metadata": {},
   "outputs": [
    {
     "data": {
      "text/plain": [
       "<matplotlib.image.AxesImage at 0x156380a9880>"
      ]
     },
     "execution_count": 10,
     "metadata": {},
     "output_type": "execute_result"
    },
    {
     "data": {
      "image/png": "[encoded data removed]",
      "text/plain": [
       "<Figure size 432x288 with 1 Axes>"
      ]
     },
     "metadata": {
      "needs_background": "light"
     },
     "output_type": "display_data"
    }
   ],
   "source": [
    "# visualize\n",
    "plt.imshow(x_train[45001,:].reshape(64,32), cmap = \"gray\")"
   ]
  },
  {
   "cell_type": "code",
   "execution_count": 11,
   "metadata": {},
   "outputs": [],
   "source": [
    "# %% \n",
    "num_classes = 2\n",
    "# Hyper parameters\n",
    "num_epochs = 100\n",
    "batch_size = 2000\n",
    "learning_rate = 0.0001"
   ]
  },
  {
   "cell_type": "code",
   "execution_count": 12,
   "metadata": {},
   "outputs": [],
   "source": [
    "train = torch.utils.data.TensorDataset(x_train,y_train)\n",
    "trainloader = torch.utils.data.DataLoader(train, batch_size = batch_size, shuffle = True)"
   ]
  },
  {
   "cell_type": "code",
   "execution_count": 13,
   "metadata": {},
   "outputs": [],
   "source": [
    "test = torch.utils.data.TensorDataset(x_test,y_test)\n",
    "testloader = torch.utils.data.DataLoader(test, batch_size = batch_size, shuffle = False)"
   ]
  },
  {
   "cell_type": "code",
   "execution_count": 14,
   "metadata": {},
   "outputs": [],
   "source": [
    "def conv3x3(in_planes, out_planes, stride = 1):\n",
    "    return nn.Conv2d(in_planes, out_planes, kernel_size = 3, stride = stride, padding = 1, bias = False)\n",
    "        \n",
    "def conv1x1(in_planes, out_planes, stride = 1):\n",
    "    return nn.Conv2d(in_planes, out_planes, kernel_size = 1, stride = stride, bias = False)"
   ]
  },
  {
   "cell_type": "code",
   "execution_count": 15,
   "metadata": {},
   "outputs": [],
   "source": [
    "class BasicBlock(nn.Module):\n",
    "    \n",
    "    expansion = 1\n",
    "    \n",
    "    def __init__(self,inplanes, planes, stride = 1, downsample = None):\n",
    "        super(BasicBlock,self).__init__()\n",
    "        self.conv1 = conv3x3(inplanes, planes, stride)\n",
    "        self.bn1 = nn.BatchNorm2d(planes)\n",
    "        self.relu = nn.ReLU(inplace = True)\n",
    "        self.drop = nn.Dropout(0.9)\n",
    "        self.conv2 = conv3x3(planes, planes)\n",
    "        self.bn2 = nn.BatchNorm2d(planes)\n",
    "        self.downsample = downsample\n",
    "        self.stride = stride\n",
    "        \n",
    "    def forward(self, x):\n",
    "        identity = x\n",
    "        \n",
    "        out = self.conv1(x)\n",
    "        out = self.bn1(out)\n",
    "        out = self.relu(out)\n",
    "        out = self.drop(out)\n",
    "        out = self.conv2(out)\n",
    "        out = self.bn2(out)\n",
    "        out = self.drop(out)\n",
    "        \n",
    "        if self.downsample is not None:\n",
    "            identity = self.downsample(x)\n",
    "            \n",
    "        out += identity\n",
    "        out = self.relu(out)\n",
    "        return out"
   ]
  },
  {
   "cell_type": "code",
   "execution_count": null,
   "metadata": {},
   "outputs": [],
   "source": [
    "class ResNet(nn.Module):\n",
    "    \n",
    "    def __init__(self, block, layers, num_classes = num_classes):\n",
    "        super(ResNet,self).__init__()\n",
    "        self.inplanes = 64\n",
    "        self.conv1 = nn.Conv2d(1, 64, kernel_size=7, stride = 2, padding = 3, bias= False)\n",
    "        self.bn1 = nn.BatchNorm2d(64)\n",
    "        self.relu = nn.ReLU(inplace = True)\n",
    "        self.maxpool = nn.MaxPool2d(kernel_size= 3, stride = 2, padding = 1)\n",
    "        self.layer1 = self._make_layer(block, 64, layers[0], stride = 1)\n",
    "        self.layer2 = self._make_layer(block, 128, layers[1], stride = 2)\n",
    "        self.layer3 = self._make_layer(block, 256, layers[2], stride = 2)\n",
    "    \n",
    "        self.avgpool = nn.AdaptiveAvgPool2d((1,1))\n",
    "        self.fc = nn.Linear(256*block.expansion, num_classes)\n",
    "        \n",
    "        for m in self.modules():\n",
    "            if isinstance(m,nn.Conv2d):\n",
    "                nn.init.kaiming_normal_(m.weight, mode = \"fan_out\", nonlinearity = \"relu\") # çok büyük ya da çok küçük sayıları değil 0'a yakın sayıları weightlere atıyor\n",
    "            elif isinstance(m, nn.BatchNorm2d):\n",
    "                nn.init.constant_(m.weight,1)\n",
    "                nn.init.constant_(m.bias,0)\n",
    "                 \n",
    "    def _make_layer(self, block, planes, blocks, stride = 1): # planes = input channel, blocks = basic block count\n",
    "        downsample = None\n",
    "        if stride != 1 or self.inplanes != planes*block.expansion:\n",
    "            downsample = nn.Sequential(\n",
    "                    conv1x1(self.inplanes, planes*block.expansion, stride),\n",
    "                    nn.BatchNorm2d(planes*block.expansion))\n",
    "        layers = []\n",
    "        layers.append(block(self.inplanes, planes, stride, downsample))\n",
    "        self.inplanes = planes*block.expansion\n",
    "        for _ in range(1,blocks):\n",
    "            layers.append(block(self.inplanes, planes))\n",
    "        \n",
    "        return nn.Sequential(*layers)\n",
    "        \n",
    "    \n",
    "    def forward(self,x):\n",
    "        \n",
    "        x = self.conv1(x)\n",
    "        x = self.bn1(x)\n",
    "        x = self.relu(x)\n",
    "        x = self.maxpool(x)\n",
    "        x = self.layer1(x)\n",
    "        x = self.layer2(x)\n",
    "        x = self.layer3(x)\n",
    "        x = self.avgpool(x)\n",
    "        x = x.view(x.size(0),-1)\n",
    "        x = self.fc(x)\n",
    "        \n",
    "        return x"
   ]
  },
  {
   "cell_type": "code",
   "execution_count": null,
   "metadata": {},
   "outputs": [],
   "source": [
    "model = ResNet(BasicBlock, [2,2,2])\n",
    "\n",
    "# model = ResNet(BasicBlock, [2,2,2]).to(device)"
   ]
  },
  {
   "cell_type": "code",
   "execution_count": null,
   "metadata": {},
   "outputs": [],
   "source": [
    "criterion = nn.CrossEntropyLoss()\n",
    "optimizer = torch.optim.Adam(model.parameters(),lr = learning_rate)"
   ]
  },
  {
   "cell_type": "code",
   "execution_count": null,
   "metadata": {},
   "outputs": [],
   "source": [
    "#%% train\n",
    "\n",
    "loss_list = []\n",
    "train_acc = []\n",
    "test_acc = []\n",
    "use_gpu = False\n",
    "\n",
    "total_step = len(trainloader)\n",
    "\n",
    "for epoch in range(num_epochs):\n",
    "    for i, (images, labels) in enumerate(trainloader):\n",
    "        \n",
    "        images = images.view(batch_size,1,64,32)\n",
    "        images = images.float()\n",
    "        \n",
    "        # gpu\n",
    "        if use_gpu:\n",
    "            if torch.cuda.is_available():\n",
    "                images, labels = images.to(device), labels.to(device)\n",
    "            \n",
    "        outputs = model(images)\n",
    "        \n",
    "        loss = criterion(outputs, labels)\n",
    "        \n",
    "        # backward and optimization\n",
    "        optimizer.zero_grad() # gradietler sıfırlandı\n",
    "        loss.backward()\n",
    "        optimizer.step()\n",
    "        \n",
    "        if i % 2 == 0:\n",
    "            print(\"epoch: {} {}/{}\".format(epoch,i,total_step))\n",
    "\n",
    "    # train\n",
    "    correct = 0\n",
    "    total = 0\n",
    "    with torch.no_grad(): # update yok\n",
    "        for data in trainloader:\n",
    "            images, labels = data\n",
    "            images = images.view(batch_size,1,64,32)\n",
    "            images = images.float()\n",
    "            \n",
    "            # gpu\n",
    "            if use_gpu:\n",
    "                if torch.cuda.is_available():\n",
    "                    images, labels = images.to(device), labels.to(device)\n",
    "                    \n",
    "            outputs = model(images)\n",
    "            _, predicted = torch.max(outputs.data,1)\n",
    "            total += labels.size(0)\n",
    "            correct += (predicted == labels).sum().item()\n",
    "    print(\"Accuracy train %d %%\"%(100*correct/total))\n",
    "    train_acc.append(100*correct/total)\n",
    "\n",
    "    # test\n",
    "    correct = 0\n",
    "    total = 0\n",
    "    with torch.no_grad(): \n",
    "        for data in testloader:\n",
    "            images, labels = data\n",
    "            images = images.view(batch_size,1,64,32)\n",
    "            images = images.float()\n",
    "            \n",
    "            # gpu\n",
    "            if use_gpu:\n",
    "                if torch.cuda.is_available():\n",
    "                    images, labels = images.to(device), labels.to(device)\n",
    "                    \n",
    "            outputs = model(images)\n",
    "            _, predicted = torch.max(outputs.data,1)\n",
    "            total += labels.size(0)\n",
    "            correct += (predicted == labels).sum().item()\n",
    "    print(\"Accuracy test %d %%\"%(100*correct/total))\n",
    "    train_acc.append(100*correct/total)\n",
    "\n",
    "    loss_list.append(loss.item())\n"
   ]
  },
  {
   "cell_type": "code",
   "execution_count": null,
   "metadata": {},
   "outputs": [],
   "source": [
    "#%% visualize\n",
    "\n",
    "fig, ax1 = plt.subplots()\n",
    "plt.plot(loss_list,label = \"Loss\",color = \"black\")\n",
    "ax2 = ax1.twinx()\n",
    "ax2.plot(np.array(test_acc)/100,label = \"Test Acc\",color=\"green\")\n",
    "ax2.plot(np.array(train_acc)/100,label = \"Train Acc\",color= \"red\")\n",
    "ax1.legend()\n",
    "ax2.legend()\n",
    "ax1.set_xlabel('Epoch')\n",
    "fig.tight_layout()\n",
    "plt.title(\"Loss vs Test Accuracy\")\n",
    "plt.show()"
   ]
  },
  {
   "cell_type": "markdown",
   "metadata": {},
   "source": [
    "Bizim örneğimizde image shape 64x32. Padding değeri girmiyoruz, varsayılan değerini alıyor ki o da 0'a eşit. Stride değeri girmiyoruz, varsayılan değeri 1. Dilation değeri girmiyoruz, varsayılan değeri 1. Bu bilgileri toparladığımızda;\n",
    "\n",
    "o = output = bilinmeyenimiz\n",
    "\n",
    "p = padding = 0\n",
    "\n",
    "k = kernel_size = 5\n",
    "\n",
    "s = stride = 1\n",
    "\n",
    "d = dilation = 1\n",
    "\n",
    "i =input shape = 64x32\n",
    "\n",
    "Bir Conv2d metoduna giren bir input aşağıdaki formüle göre çıkış boyutu verir.\n",
    "\n",
    "o = [i + 2*p - k - (k-1)*(d-1)]/s + 1\n",
    "Kendi parametre değerlerimizle çözüm yaptığımızda;\n",
    "\n",
    "i=64 için o=60,\n",
    "\n",
    "i=32 için o=28 çıkar. Böylece inputumuz ilk Conv2d metodundan çıktığında 60x28 shape'ini alıyor.\n",
    "\n",
    "Ardından MaxPooling2d yapıyoruz. Örneğimizde pool_size=(2,2) belirlediğimiz için 60x28 shape'i 30x14'e indiriyoruz.\n",
    "\n",
    "Ardından 30x14 için tekrar Conv2d uyguluyoruz.\n",
    "\n",
    "i=30 için o=26,\n",
    "\n",
    "i=14 için o=10, böylece inputumuz ikinci Conv2d metodundan çıktığında 26x10 shape'ini alıyor.\n",
    "\n",
    "Ardından tekrar MaxPooling2d yapıyoruz. Örneğimizde pool_size=(2,2) belirlediğimiz için 26x10 shape'i 13x5'e indiriyoruz.\n",
    "\n",
    "Son Conv2d metodunda feature map sayısını 16 olarak belirlediğimiz için elimizde 16 adet 13x5 image oluyor. Bu yüzden nn.Linear(16*13*5,520) yazıyoruz. Umarım faydalı olur."
   ]
  },
  {
   "cell_type": "code",
   "execution_count": null,
   "metadata": {},
   "outputs": [],
   "source": [
    "#%% IMAGE TO TEST\n",
    "from PIL import Image\n",
    "import numpy as np\n",
    "import matplotlib.pyplot as plt\n",
    " \n",
    "#image objesi olarak im değişkenine kayıt edilir.\n",
    "im = Image.open('sekiz.jpg')\n",
    " \n",
    "#image'ı numpy array'e dönüştürür\n",
    "im2arr = np.array(im)\n",
    " \n",
    "#image, im2arr içinde 28x28x3 formatında. Sondaki 3, channel değerini ifade ediyor. Channel=3 renkli yani r,g,b değerleri var anlamında. Biz modelimizi channel=1 yani gri'ye göre eğittik ve input_shape parametresini ona göre belirledik. Bu yüzden griye dönüştürerek 28x28x1 şekline getirmemiz gerekiyor.\n",
    " \n",
    "def rgb2gray(rgb):\n",
    "#image gray transform matris ile dot product yapıyor ve ch=1 yani 28x28 yani gri forma dönüşüyor. Fakat bize 28x28x1 şekli lazım. Predict öncesinde onu reshape yapacağız.\n",
    "    return np.dot(rgb[...,:3], [0.2989, 0.5870, 0.1140])\n",
    " \n",
    "gray = rgb2gray(im2arr)\n",
    " \n",
    "#gri image array'ından image objesi oluşturuluyor.\n",
    "arr2im = Image.fromarray(gray)\n",
    " \n",
    "#image plot ediliyor.\n",
    "plt.imshow(arr2im)\n",
    "plt.axis(\"off\")\n",
    " \n",
    "#yüklenen image'ın piksel değerleri normalize ediliyor ve predict için reshape yapılıyor\n",
    "gray_norm = gray/255.0\n",
    "gray_norm = gray_norm.reshape(28,28,1)\n",
    " \n",
    "#%% TEST\n",
    " \n",
    "#predict ve predictin olasılık değeri değişkenlere kaydediliyor.\n",
    "y_head = model.predict_classes([[gray_norm]])\n",
    "y_proba = model.predict_proba([[gray_norm]])\n",
    " \n",
    "print(\"% {0:.2f} ihtimalle: \".format((y_proba[0,y_head[0]])*100), y_head[0])"
   ]
  },
  {
   "cell_type": "code",
   "execution_count": null,
   "metadata": {},
   "outputs": [],
   "source": [
    "import pandas as pd\n",
    "import cv2\n",
    "import pickle\n",
    " \n",
    "filenames = os.listdir(\"./train/malignant\") # resimlerin bulunduğu klasör\n",
    "images = []\n",
    "i = 0\n",
    " \n",
    "for filename in filenames:\n",
    "\ti += 1\n",
    "\timg = cv2.imread(\"./train/malignant/\"+ filename)\n",
    "\timages.append(img)\n",
    "\tif i%100 == 0:\n",
    "\t\tprint(\"{} Resim Yüklendi\".format(i))\n",
    " \n",
    "df = pd.DataFrame({\n",
    "    'image': images\n",
    "})\n",
    " \n",
    "pickle_out = open(\"malignant_train.pickle\",\"wb\")\n",
    "pickle.dump(df, pickle_out)\n",
    "pickle_out.close()\n",
    "\n",
    "pd.read_pickle('malignant_train.pickle')"
   ]
  }
 ],
 "metadata": {
  "kernelspec": {
   "display_name": "Python 3",
   "language": "python",
   "name": "python3"
  },
  "language_info": {
   "codemirror_mode": {
    "name": "ipython",
    "version": 3
   },
   "file_extension": ".py",
   "mimetype": "text/x-python",
   "name": "python",
   "nbconvert_exporter": "python",
   "pygments_lexer": "ipython3",
   "version": "3.8.8"
  }
 },
 "nbformat": 4,
 "nbformat_minor": 4
}
